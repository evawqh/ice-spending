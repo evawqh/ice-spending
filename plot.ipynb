{
 "cells": [
  {
   "cell_type": "code",
   "execution_count": 1,
   "metadata": {},
   "outputs": [],
   "source": [
    "%load_ext rpy2.ipython\n",
    "%load_ext autoreload\n",
    "%autoreload 2\n",
    "\n",
    "%matplotlib inline  \n",
    "from matplotlib import rcParams\n",
    "rcParams['figure.figsize'] = (16, 100)\n",
    "\n",
    "import warnings\n",
    "from rpy2.rinterface import RRuntimeWarning\n",
    "warnings.filterwarnings(\"ignore\") # Ignore all warnings\n",
    "# warnings.filterwarnings(\"ignore\", category=RRuntimeWarning) # Show some warnings\n",
    "\n",
    "import pandas as pd\n",
    "import numpy as np\n",
    "import matplotlib.pyplot as plt\n",
    "from IPython.display import display, HTML"
   ]
  },
  {
   "cell_type": "code",
   "execution_count": 2,
   "metadata": {},
   "outputs": [
    {
     "data": {
      "application/javascript": "// Disable auto-scrolling\nIPython.OutputArea.prototype._should_scroll = function(lines) {\n    return false;\n}\n",
      "text/plain": [
       "<IPython.core.display.Javascript object>"
      ]
     },
     "metadata": {},
     "output_type": "display_data"
    }
   ],
   "source": [
    "%%javascript\n",
    "// Disable auto-scrolling\n",
    "IPython.OutputArea.prototype._should_scroll = function(lines) {\n",
    "    return false;\n",
    "}"
   ]
  },
  {
   "cell_type": "code",
   "execution_count": 3,
   "metadata": {},
   "outputs": [
    {
     "name": "stderr",
     "output_type": "stream",
     "text": [
      "R[write to console]: Loading required package: tidyverse\n",
      "\n"
     ]
    },
    {
     "name": "stdout",
     "output_type": "stream",
     "text": [
      "── Attaching packages ─────────────────────────────────────── tidyverse 1.3.2 ──\n",
      "✔ ggplot2 3.4.0      ✔ purrr   1.0.1 \n",
      "✔ tibble  3.1.8      ✔ dplyr   1.0.10\n",
      "✔ tidyr   1.2.1      ✔ stringr 1.5.0 \n",
      "✔ readr   2.1.3      ✔ forcats 0.5.2 \n",
      "── Conflicts ────────────────────────────────────────── tidyverse_conflicts() ──\n",
      "✖ dplyr::filter() masks stats::filter()\n",
      "✖ dplyr::lag()    masks stats::lag()\n"
     ]
    }
   ],
   "source": [
    "%%R\n",
    "\n",
    "# My commonly used R imports\n",
    "\n",
    "require('tidyverse')"
   ]
  },
  {
   "cell_type": "code",
   "execution_count": 4,
   "metadata": {},
   "outputs": [],
   "source": [
    "%%R\n",
    "library(treemap)"
   ]
  },
  {
   "cell_type": "code",
   "execution_count": null,
   "metadata": {},
   "outputs": [],
   "source": []
  },
  {
   "cell_type": "code",
   "execution_count": 11,
   "metadata": {},
   "outputs": [
    {
     "name": "stdout",
     "output_type": "stream",
     "text": [
      "Rows: 6664 Columns: 2\n",
      "── Column specification ────────────────────────────────────────────────────────\n",
      "Delimiter: \",\"\n",
      "chr (1): recipient_parent\n",
      "dbl (1): amount\n",
      "\n",
      "ℹ Use `spec()` to retrieve the full column specification for this data.\n",
      "ℹ Specify the column types or set `show_col_types = FALSE` to quiet this message.\n",
      "Rows: 15220 Columns: 3\n",
      "── Column specification ────────────────────────────────────────────────────────\n",
      "Delimiter: \",\"\n",
      "chr (1): recipient_parent\n",
      "dbl (2): award_first_year, amount\n",
      "\n",
      "ℹ Use `spec()` to retrieve the full column specification for this data.\n",
      "ℹ Specify the column types or set `show_col_types = FALSE` to quiet this message.\n",
      "Rows: 1119 Columns: 4\n",
      "── Column specification ────────────────────────────────────────────────────────\n",
      "Delimiter: \",\"\n",
      "chr (3): product_or_service_code_description, sum, count\n",
      "dbl (1): sum_in_mil\n",
      "\n",
      "ℹ Use `spec()` to retrieve the full column specification for this data.\n",
      "ℹ Specify the column types or set `show_col_types = FALSE` to quiet this message.\n"
     ]
    }
   ],
   "source": [
    "%%R\n",
    "\n",
    "df_rec_totals <- read_csv(\"recipients-totals.csv\")\n",
    "df_rec_year <- read_csv(\"recipients-year.csv\")\n",
    "df_purpose <- read_csv(\"purpose-amount.csv\")"
   ]
  },
  {
   "cell_type": "code",
   "execution_count": 6,
   "metadata": {},
   "outputs": [
    {
     "name": "stdout",
     "output_type": "stream",
     "text": [
      "# A tibble: 6,664 × 2\n",
      "   recipient_parent                      amount\n",
      "   <chr>                                  <dbl>\n",
      " 1 1 NATION TECHNOLOGY CORP              24990 \n",
      " 2 1 STOP ELECTRONICS CENTER  INC.        5219.\n",
      " 3 1000 K  L.L.C.                        16699.\n",
      " 4 1105 MEDIA INC                         6174 \n",
      " 5 1301 K STREET LIMITED PARTNERSHIP      4995 \n",
      " 6 1415 LOUISIANA  INC.                   3300 \n",
      " 7 17TH ST. PHOTO SUPPLY  INC.          235360.\n",
      " 8 1ST CALL PAINT CONTRACTORS LLC         9724 \n",
      " 9 200 WEST ADAMS ASSOCIATES NF L.L.C.   28507 \n",
      "10 2001 NUTRITION SERVICES INCORPORATED   6000 \n",
      "# … with 6,654 more rows\n",
      "# ℹ Use `print(n = ...)` to see more rows\n"
     ]
    }
   ],
   "source": [
    "%%R\n",
    "\n",
    "df_rec_totals\n",
    "# This can be a histogram/bubble chart/sth by company amount"
   ]
  },
  {
   "cell_type": "code",
   "execution_count": 7,
   "metadata": {},
   "outputs": [
    {
     "name": "stdout",
     "output_type": "stream",
     "text": [
      "# A tibble: 15,220 × 3\n",
      "   recipient_parent                  award_first_year amount\n",
      "   <chr>                                        <dbl>  <dbl>\n",
      " 1 1 NATION TECHNOLOGY CORP                      2006 24990 \n",
      " 2 1 STOP ELECTRONICS CENTER  INC.               2008  5219.\n",
      " 3 1000 K  L.L.C.                                2007 12410 \n",
      " 4 1000 K  L.L.C.                                2011  4289.\n",
      " 5 1105 MEDIA INC                                2008  2799 \n",
      " 6 1105 MEDIA INC                                2010  3375 \n",
      " 7 1301 K STREET LIMITED PARTNERSHIP             2003  4995 \n",
      " 8 1415 LOUISIANA  INC.                          2015  3300 \n",
      " 9 17TH ST. PHOTO SUPPLY  INC.                   2006 15924.\n",
      "10 17TH ST. PHOTO SUPPLY  INC.                   2007  7216 \n",
      "# … with 15,210 more rows\n",
      "# ℹ Use `print(n = ...)` to see more rows\n"
     ]
    }
   ],
   "source": [
    "%%R\n",
    "df_rec_year\n",
    "# This should be a ggplot chart \n",
    "# with multiple facet_wrapped chart \n",
    "# by year and another one by recipient."
   ]
  },
  {
   "cell_type": "code",
   "execution_count": 14,
   "metadata": {},
   "outputs": [],
   "source": []
  },
  {
   "cell_type": "code",
   "execution_count": 12,
   "metadata": {},
   "outputs": [
    {
     "name": "stdout",
     "output_type": "stream",
     "text": [
      "# A tibble: 1,118 × 4\n",
      "   product_or_service_code_description                       sum   count sum_i…¹\n",
      "   <chr>                                                     <chr> <chr>   <dbl>\n",
      " 1 HOUSEKEEPING- GUARD                                       1067… 2820    10678\n",
      " 2 SUPPORT- PROFESSIONAL: PROGRAM MANAGEMENT/SUPPORT         3103… 402      3103\n",
      " 3 TRANSPORTATION/TRAVEL/RELOCATION- TRAVEL/LODGING/RECRUIT… 1775… 101      1776\n",
      " 4 MEDICAL- GENERAL HEALTH CARE                              1090… 22       1090\n",
      " 5 IT AND TELECOM- SYSTEMS DEVELOPMENT                       1057… 114      1058\n",
      " 6 GUARD SERVICES                                            9698… 667       970\n",
      " 7 IT AND TELECOM- OTHER IT AND TELECOMMUNICATIONS           7308… 265       731\n",
      " 8 HOUSEKEEPING- FACILITIES OPERATIONS SUPPORT               4631… 156       463\n",
      " 9 INFORMATION TECHNOLOGY SOFTWARE                           4305… 1769      431\n",
      "10 SUPPORT- ADMINISTRATIVE: TRANSLATION AND INTERPRETING     3651… 291       365\n",
      "# … with 1,108 more rows, and abbreviated variable name ¹​sum_in_mil\n",
      "# ℹ Use `print(n = ...)` to see more rows\n"
     ]
    }
   ],
   "source": [
    "%%R\n",
    "df_purpose <- df_purpose[-1,]\n",
    "df_purpose\n",
    "# This can be represented in a waffle chart, \n",
    "# with the top 10-20 purposes"
   ]
  },
  {
   "cell_type": "code",
   "execution_count": 20,
   "metadata": {},
   "outputs": [
    {
     "data": {
      "image/png": "[encoded data removed]"
     },
     "metadata": {},
     "output_type": "display_data"
    }
   ],
   "source": [
    "%%R\n",
    "\n",
    "ggplot(df_rec_totals) +\n",
    "    geom_point(aes(x=\"product_or_service_code_description\", y=0), alpha=.5) +\n",
    "    labs(\n",
    "        title='Inaccuracy of polls in presidential elections',\n",
    "        subtitle=\"positive numbers = polls overestimated DEM support\\nnegative numbers= polls overestimated GOP support\",\n",
    "        )"
   ]
  }
 ],
 "metadata": {
  "kernelspec": {
   "display_name": "Python 3",
   "language": "python",
   "name": "python3"
  },
  "language_info": {
   "codemirror_mode": {
    "name": "ipython",
    "version": 3
   },
   "file_extension": ".py",
   "mimetype": "text/x-python",
   "name": "python",
   "nbconvert_exporter": "python",
   "pygments_lexer": "ipython3",
   "version": "3.11.1"
  },
  "orig_nbformat": 4,
  "vscode": {
   "interpreter": {
    "hash": "d1fcb8f27dc5df4839b32ea268a65060b2731b5947e0980027677e4d1d3953b8"
   }
  }
 },
 "nbformat": 4,
 "nbformat_minor": 2
}
